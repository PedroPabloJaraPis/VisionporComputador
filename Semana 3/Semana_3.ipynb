{
  "nbformat": 4,
  "nbformat_minor": 0,
  "metadata": {
    "colab": {
      "provenance": []
    },
    "kernelspec": {
      "name": "python3",
      "display_name": "Python 3"
    },
    "language_info": {
      "name": "python"
    }
  },
  "cells": [
    {
      "cell_type": "code",
      "execution_count": null,
      "metadata": {
        "id": "MXMOQWpHOJLb"
      },
      "outputs": [],
      "source": [
        "import numpy as np\n",
        "import cv2 as cv\n",
        "from google.colab.patches import cv2_imshow\n",
        "\n",
        "# Funciones\n",
        "def draw(vertices, edges, im):\n",
        "    \"\"\"Dibuja objeto definido por vertices y bordes\"\"\"\n",
        "    # Normalizar coordenadas homogeneas\n",
        "    v_h = np.array([ v[:-2]/v[-1] for v in vertices])\n",
        "    for e in edges:\n",
        "        cv.line(im, tuple(v_h[e[0]].astype(int)), tuple(v_h[e[1]].astype(int)), (255,0,15), 2)\n",
        "    for v in v_h:\n",
        "        cv.circle(im, tuple(v.astype(int)), 3, (255,0,255),-1)\n",
        "\n",
        "### ---------- DEFINIR FUNCIONES ---------- ###\n",
        "def translate3d(vertex, dx, dy, dz):\n",
        "    \"\"\"Operación de traslación 3d\"\"\"\n",
        "\n",
        "def project2D(vertex, f=35, w=100, h=100):\n",
        "    \"\"\"Aplica una transformacion de proyeccion pinhole\"\"\"\n",
        "\n",
        "\n",
        "### ---------- DEFINIT GEOMETRIA  ---------- ###\n",
        "# Cubo definido en su sistema coordenado\n",
        "# Lista de vertices [[x, y, z,1], ...\n",
        "# List de bordes que relacionan los indices de los vertices\n",
        "# [(0,1), (1,2), ....\n",
        "v = np.array([[0,100,100,1],[0,100,0,1],[100,100,0,1],[100,0,0,1],[100,0,100,1],[0,0,100,1],[0,0,0,1],[100,100,100,1]])\n",
        "edges = [(0,1),(1,2),(2,3),(3,4),(4,5),(5,0),(5,6),(1,6),(6,3),(7,4),(0,7),(7,2)]\n",
        "\n",
        "\n",
        "\n"
      ]
    },
    {
      "cell_type": "code",
      "source": [
        "### ---------- TRASLADAR CUBO A POSICION INDICADA ---------- ###\n",
        "\n",
        "\n",
        "\n",
        "# Parametros camara\n",
        "f = 200 # Distancia focal\n",
        "# Tamano imagen\n",
        "w = 500\n",
        "h = 500\n",
        "\n",
        "### ---------- PROYECTAR VERTICES ---------- ###\n",
        "# Proyectar 3D -> 2D\n",
        "\n",
        "\n",
        "\n",
        "###----------  TRASLADAR PROYECCION A CENTRO DE IMAGEN ---------- ###\n",
        "\n",
        "\n",
        "# Dibujar y mostrar\n",
        "im = np.zeros((h,w,3), np.uint8)\n",
        "draw(v, edges, im)\n",
        "cv2_imshow(im)"
      ],
      "metadata": {
        "colab": {
          "base_uri": "https://localhost:8080/",
          "height": 517
        },
        "id": "cr5VWTIIOmXa",
        "outputId": "f4c2f6ee-a243-41a8-f71f-a1929b240bee"
      },
      "execution_count": null,
      "outputs": [
        {
          "output_type": "display_data",
          "data": {
            "text/plain": [
              "<PIL.Image.Image image mode=RGB size=500x500>"
            ],
            "image/png": "[encoded data removed]"
          },
          "metadata": {}
        }
      ]
    },
    {
      "cell_type": "code",
      "source": [
        "XX=40\n",
        "YY=40\n",
        "ZZ=40"
      ],
      "metadata": {
        "id": "TxoBDYs9UHGt"
      },
      "execution_count": null,
      "outputs": []
    },
    {
      "cell_type": "code",
      "source": [
        "XT=100\n",
        "YT=200\n",
        "ZT=50"
      ],
      "metadata": {
        "id": "UWXEX1lvUvOX"
      },
      "execution_count": null,
      "outputs": []
    },
    {
      "cell_type": "code",
      "source": [
        "import numpy as np\n",
        "import cv2 as cv\n",
        "from google.colab.patches import cv2_imshow\n",
        "\n",
        "# Funciones\n",
        "def draw(vertices, edges, im):\n",
        "    \"\"\"Dibuja objeto definido por vertices y bordes\"\"\"\n",
        "    for e in edges:\n",
        "        cv.line(im, tuple(vertices[e[0]][:2].astype(int)), tuple(vertices[e[1]][:2].astype(int)), (255, 0, 15), 2)\n",
        "    for v in vertices:\n",
        "        cv.circle(im, tuple(v[:2].astype(int)), 3, (255, 0, 255), -1)\n",
        "\n",
        "### ---------- DEFINIR FUNCIONES ---------- ###\n",
        "def translate3d(vertices, dx, dy, dz):\n",
        "    \"\"\"Operación de traslación 3d\"\"\"\n",
        "    translation_matrix = np.array([[1, 0, 0, dx],\n",
        "                                   [0, 1, 0, dy],\n",
        "                                   [0, 0, 1, dz],\n",
        "                                   [0, 0, 0, 1]])\n",
        "\n",
        "    return np.dot(vertices, translation_matrix.T)\n",
        "\n",
        "def rotate_x(angle):\n",
        "    \"\"\"Matriz de rotación en el eje X\"\"\"\n",
        "    angle_rad = np.radians(angle)\n",
        "    return np.array([[1, 0, 0, 0],\n",
        "                     [0, np.cos(angle_rad), -np.sin(angle_rad), 0],\n",
        "                     [0, np.sin(angle_rad), np.cos(angle_rad), 0],\n",
        "                     [0, 0, 0, 1]])\n",
        "\n",
        "def rotate_y(angle):\n",
        "    \"\"\"Matriz de rotación en el eje Y\"\"\"\n",
        "    angle_rad = np.radians(angle)\n",
        "    return np.array([[np.cos(angle_rad), 0, np.sin(angle_rad), 0],\n",
        "                     [0, 1, 0, 0],\n",
        "                     [-np.sin(angle_rad), 0, np.cos(angle_rad), 0],\n",
        "                     [0, 0, 0, 1]])\n",
        "\n",
        "def rotate_z(angle):\n",
        "    \"\"\"Matriz de rotación en el eje Z\"\"\"\n",
        "    angle_rad = np.radians(angle)\n",
        "    return np.array([[np.cos(angle_rad), -np.sin(angle_rad), 0, 0],\n",
        "                     [np.sin(angle_rad), np.cos(angle_rad), 0, 0],\n",
        "                     [0, 0, 1, 0],\n",
        "                     [0, 0, 0, 1]])\n",
        "\n",
        "def project3D(vertices, d=500):\n",
        "    \"\"\"Aplica una proyección 3D\"\"\"\n",
        "    projection_matrix = np.array([[1, 0, 0, 0],\n",
        "                                  [0, 1, 0, 0],\n",
        "                                  [0, 0, 1, -1/d]])\n",
        "\n",
        "    return np.dot(vertices, projection_matrix.T)\n",
        "\n",
        "### ---------- DEFINIT GEOMETRIA  ---------- ###\n",
        "# Cubo definido en su sistema coordenado\n",
        "v = np.array([[0, 100, 100, 1], [0, 100, 0, 1], [100, 100, 0, 1], [100, 0, 0, 1],\n",
        "              [100, 0, 100, 1], [0, 0, 100, 1], [0, 0, 0, 1], [100, 100, 100, 1]])\n",
        "edges = [(0, 1), (1, 2), (2, 3), (3, 4), (4, 5), (5, 0), (5, 6), (1, 6), (6, 3), (7, 4), (0, 7), (7, 2)]\n",
        "\n",
        "### ---------- ROTAR CUBO ---------- ###\n",
        "# Rotar en el eje X\n",
        "v = np.dot(v, rotate_x(angle=XX).T)\n",
        "\n",
        "# Rotar en el eje Y\n",
        "v = np.dot(v, rotate_y(angle=YY).T)\n",
        "\n",
        "# Rotar en el eje Z\n",
        "v = np.dot(v, rotate_z(angle=ZZ).T)\n",
        "\n",
        "# Parametros de la cámara\n",
        "d = 500  # Distancia de la cámara al plano de proyección\n",
        "v = translate(v, dx=250, dy=250)\n",
        "\n",
        "### ---------- PROYECTAR VERTICES EN 3D ---------- ###\n",
        "v_projected = project3D(v, d=d)\n",
        "\n",
        "# Dibujar y mostrar\n",
        "im = np.zeros((500, 500, 3), np.uint8)\n",
        "draw(v_projected, edges, im)\n",
        "cv2_imshow(im)"
      ],
      "metadata": {
        "colab": {
          "base_uri": "https://localhost:8080/",
          "height": 254
        },
        "id": "dX-zI4cWRTxh",
        "outputId": "31269fa8-f730-49e5-ccb5-ef9dc176c6f0"
      },
      "execution_count": null,
      "outputs": [
        {
          "output_type": "error",
          "ename": "NameError",
          "evalue": "name 'translate' is not defined",
          "traceback": [
            "\u001b[0;31m---------------------------------------------------------------------------\u001b[0m",
            "\u001b[0;31mNameError\u001b[0m                                 Traceback (most recent call last)",
            "\u001b[0;32m<ipython-input-5-da45a8647c5a>\u001b[0m in \u001b[0;36m<cell line: 73>\u001b[0;34m()\u001b[0m\n\u001b[1;32m     71\u001b[0m \u001b[0;31m# Parametros de la cámara\u001b[0m\u001b[0;34m\u001b[0m\u001b[0;34m\u001b[0m\u001b[0m\n\u001b[1;32m     72\u001b[0m \u001b[0md\u001b[0m \u001b[0;34m=\u001b[0m \u001b[0;36m500\u001b[0m  \u001b[0;31m# Distancia de la cámara al plano de proyección\u001b[0m\u001b[0;34m\u001b[0m\u001b[0;34m\u001b[0m\u001b[0m\n\u001b[0;32m---> 73\u001b[0;31m \u001b[0mv\u001b[0m \u001b[0;34m=\u001b[0m \u001b[0mtranslate\u001b[0m\u001b[0;34m(\u001b[0m\u001b[0mv\u001b[0m\u001b[0;34m,\u001b[0m \u001b[0mdx\u001b[0m\u001b[0;34m=\u001b[0m\u001b[0;36m250\u001b[0m\u001b[0;34m,\u001b[0m \u001b[0mdy\u001b[0m\u001b[0;34m=\u001b[0m\u001b[0;36m250\u001b[0m\u001b[0;34m)\u001b[0m\u001b[0;34m\u001b[0m\u001b[0;34m\u001b[0m\u001b[0m\n\u001b[0m\u001b[1;32m     74\u001b[0m \u001b[0;34m\u001b[0m\u001b[0m\n\u001b[1;32m     75\u001b[0m \u001b[0;31m### ---------- PROYECTAR VERTICES EN 3D ---------- ###\u001b[0m\u001b[0;34m\u001b[0m\u001b[0;34m\u001b[0m\u001b[0m\n",
            "\u001b[0;31mNameError\u001b[0m: name 'translate' is not defined"
          ]
        }
      ]
    },
    {
      "cell_type": "code",
      "source": [
        "XX=30\n",
        "YY=45\n",
        "ZZ=15"
      ],
      "metadata": {
        "id": "ZlmVh78BXazP"
      },
      "execution_count": null,
      "outputs": []
    },
    {
      "cell_type": "code",
      "source": [
        "import numpy as np\n",
        "import cv2 as cv\n",
        "from google.colab.patches import cv2_imshow\n",
        "\n",
        "# Funciones\n",
        "def draw(vertices, edges, im):\n",
        "    \"\"\"Dibuja objeto definido por vertices y bordes\"\"\"\n",
        "    for e in edges:\n",
        "        cv.line(im, tuple(vertices[e[0]][:2].astype(int)), tuple(vertices[e[1]][:2].astype(int)), (255, 0, 15), 2)\n",
        "    for v in vertices:\n",
        "        cv.circle(im, tuple(v[:2].astype(int)), 3, (255, 0, 255), -1)\n",
        "\n",
        "def rotate_x(angle):\n",
        "    \"\"\"Matriz de rotación en el eje X\"\"\"\n",
        "    angle_rad = np.radians(angle)\n",
        "    return np.array([[1, 0, 0, 0],\n",
        "                     [0, np.cos(angle_rad), -np.sin(angle_rad), 0],\n",
        "                     [0, np.sin(angle_rad), np.cos(angle_rad), 0],\n",
        "                     [0, 0, 0, 1]])\n",
        "\n",
        "def rotate_y(angle):\n",
        "    \"\"\"Matriz de rotación en el eje Y\"\"\"\n",
        "    angle_rad = np.radians(angle)\n",
        "    return np.array([[np.cos(angle_rad), 0, np.sin(angle_rad), 0],\n",
        "                     [0, 1, 0, 0],\n",
        "                     [-np.sin(angle_rad), 0, np.cos(angle_rad), 0],\n",
        "                     [0, 0, 0, 1]])\n",
        "\n",
        "def rotate_z(angle):\n",
        "    \"\"\"Matriz de rotación en el eje Z\"\"\"\n",
        "    angle_rad = np.radians(angle)\n",
        "    return np.array([[np.cos(angle_rad), -np.sin(angle_rad), 0, 0],\n",
        "                     [np.sin(angle_rad), np.cos(angle_rad), 0, 0],\n",
        "                     [0, 0, 1, 0],\n",
        "                     [0, 0, 0, 1]])\n",
        "\n",
        "def project3D(vertices, d=500):\n",
        "    \"\"\"Aplica una proyección 3D\"\"\"\n",
        "    projection_matrix = np.array([[1, 0, 0, 0],\n",
        "                                  [0, 1, 0, 0],\n",
        "                                  [0, 0, 1, -1/d]])\n",
        "\n",
        "    return np.dot(vertices, projection_matrix.T)\n",
        "\n",
        "def translate(vertices, dx, dy):\n",
        "    # Implementa la función de translación\n",
        "    translation_matrix = np.array([[1, 0, 0, dx], [0, 1, 0, dy], [0, 0, 1, 0], [0, 0, 0, 1]])  # Agregar columna de ceros\n",
        "    v = translation_matrix @ vertices.T\n",
        "    return v.T\n",
        "\n",
        "\n",
        "# Cubo definido en su sistema coordenado\n",
        "v = np.array([[0, 100, 100, 1], [0, 100, 0, 1], [100, 100, 0, 1], [100, 0, 0, 1],\n",
        "              [100, 0, 100, 1], [0, 0, 100, 1], [0, 0, 0, 1], [100, 100, 100, 1]])\n",
        "edges = [(0, 1), (1, 2), (2, 3), (3, 4), (4, 5), (5, 0), (5, 6), (1, 6), (6, 3), (7, 4), (0, 7), (7, 2)]\n",
        "\n",
        "# Rotar en los ejes X, Y y Z\n",
        "v = np.dot(v, rotate_x(angle=XX).T)\n",
        "v = np.dot(v, rotate_y(angle=YY).T)\n",
        "v = np.dot(v, rotate_z(angle=ZZ).T)\n",
        "\n",
        "# Trasladar el cubo a la parte inferior derecha\n",
        "v = translate(v, dx=250, dy=250)\n",
        "\n",
        "# Parámetros de la cámara\n",
        "d = 500  # Distancia de la cámara al plano de proyección\n",
        "\n",
        "# Proyectar los vértices en 3D\n",
        "v_projected = project3D(v, d=d)\n",
        "\n",
        "# Dibujar y mostrar\n",
        "im = np.zeros((500, 500, 3), np.uint8)\n",
        "draw(v_projected, edges, im)\n",
        "cv2_imshow(im)"
      ],
      "metadata": {
        "colab": {
          "base_uri": "https://localhost:8080/",
          "height": 517
        },
        "id": "uEdw5lKyTTV8",
        "outputId": "2b5a738a-c14c-4189-df7a-ac52ad20f81d"
      },
      "execution_count": null,
      "outputs": [
        {
          "output_type": "display_data",
          "data": {
            "text/plain": [
              "<PIL.Image.Image image mode=RGB size=500x500>"
            ],
            "image/png": "[encoded data removed]"
          },
          "metadata": {}
        }
      ]
    },
    {
      "cell_type": "code",
      "source": [],
      "metadata": {
        "id": "Se_Tm5kyXPjq"
      },
      "execution_count": null,
      "outputs": []
    }
  ]
}